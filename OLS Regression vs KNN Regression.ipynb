{
 "cells": [
  {
   "cell_type": "markdown",
   "metadata": {},
   "source": [
    "## OLS Regression vs. KNN Regression\n",
    "\n",
    "This is a Thinkful assignment for comparing OLS Regression vs. KNN Regression. The data set used for this assignment is the FBI Crime Record data set from the previous lession. The OLS regression model is also from previous assignment as well. We will be fitting the KNN regression model in this assignment, and compare these two regression models. Below is the link for the data set. \n",
    "https://ucr.fbi.gov/crime-in-the-u.s/2013/crime-in-the-u.s.-2013/tables/table-8/table-8-state-cuts/table_8_offenses_known_to_law_enforcement_new_york_by_city_2013.xls"
   ]
  },
  {
   "cell_type": "code",
   "execution_count": 1,
   "metadata": {},
   "outputs": [],
   "source": [
    "import math\n",
    "import warnings\n",
    "\n",
    "from IPython.display import display\n",
    "from matplotlib import pyplot as plt\n",
    "import matplotlib.gridspec as gridspec\n",
    "import numpy as np\n",
    "import pandas as pd\n",
    "import seaborn as sns\n",
    "import statsmodels.formula.api as smf\n",
    "\n",
    "from sklearn import neighbors\n",
    "from sklearn import linear_model\n",
    "\n",
    "# Display preferences.\n",
    "%matplotlib inline\n",
    "pd.options.display.float_format = '{:.3f}'.format\n",
    "\n",
    "import warnings\n",
    "warnings.filterwarnings(action=\"ignore\", module=\"scipy\", message=\"^internal gelsd\")"
   ]
  },
  {
   "cell_type": "markdown",
   "metadata": {},
   "source": [
    "## Below codes are from previous assignment"
   ]
  },
  {
   "cell_type": "code",
   "execution_count": 2,
   "metadata": {},
   "outputs": [
    {
     "name": "stderr",
     "output_type": "stream",
     "text": [
      "C:\\dev_software\\Anaconda3\\lib\\site-packages\\ipykernel_launcher.py:3: ParserWarning: Falling back to the 'python' engine because the 'c' engine does not support skipfooter; you can avoid this warning by specifying engine='python'.\n",
      "  This is separate from the ipykernel package so we can avoid doing imports until\n"
     ]
    }
   ],
   "source": [
    "#Our data set have some headers and footers, and we need to skip those headers and footers, and just import our data. \n",
    "df = pd.read_csv('https://raw.githubusercontent.com/Thinkful-Ed/data-201-resources/master/New_York_offenses/NEW_YORK-Offenses_Known_to_Law_Enforcement_by_City_2013%20-%2013tbl8ny.csv',\n",
    "                 skiprows=4,skipfooter=3,header=0,na_values='nan')"
   ]
  },
  {
   "cell_type": "markdown",
   "metadata": {},
   "source": [
    "### Data Cleaning"
   ]
  },
  {
   "cell_type": "code",
   "execution_count": 3,
   "metadata": {},
   "outputs": [
    {
     "data": {
      "text/html": [
       "<div>\n",
       "<style scoped>\n",
       "    .dataframe tbody tr th:only-of-type {\n",
       "        vertical-align: middle;\n",
       "    }\n",
       "\n",
       "    .dataframe tbody tr th {\n",
       "        vertical-align: top;\n",
       "    }\n",
       "\n",
       "    .dataframe thead th {\n",
       "        text-align: right;\n",
       "    }\n",
       "</style>\n",
       "<table border=\"1\" class=\"dataframe\">\n",
       "  <thead>\n",
       "    <tr style=\"text-align: right;\">\n",
       "      <th></th>\n",
       "      <th>City</th>\n",
       "      <th>Population</th>\n",
       "      <th>Violent\n",
       "crime</th>\n",
       "      <th>Murder and\n",
       "nonnegligent\n",
       "manslaughter</th>\n",
       "      <th>Rape\n",
       "(revised\n",
       "definition)1</th>\n",
       "      <th>Rape\n",
       "(legacy\n",
       "definition)2</th>\n",
       "      <th>Robbery</th>\n",
       "      <th>Aggravated\n",
       "assault</th>\n",
       "      <th>Property\n",
       "crime</th>\n",
       "      <th>Burglary</th>\n",
       "      <th>Larceny-\n",
       "theft</th>\n",
       "      <th>Motor\n",
       "vehicle\n",
       "theft</th>\n",
       "      <th>Arson3</th>\n",
       "    </tr>\n",
       "  </thead>\n",
       "  <tbody>\n",
       "    <tr>\n",
       "      <th>0</th>\n",
       "      <td>Adams Village</td>\n",
       "      <td>1,861</td>\n",
       "      <td>0</td>\n",
       "      <td>0</td>\n",
       "      <td>nan</td>\n",
       "      <td>0</td>\n",
       "      <td>0</td>\n",
       "      <td>0</td>\n",
       "      <td>12</td>\n",
       "      <td>2</td>\n",
       "      <td>10</td>\n",
       "      <td>0</td>\n",
       "      <td>0.000</td>\n",
       "    </tr>\n",
       "    <tr>\n",
       "      <th>1</th>\n",
       "      <td>Addison Town and Village</td>\n",
       "      <td>2,577</td>\n",
       "      <td>3</td>\n",
       "      <td>0</td>\n",
       "      <td>nan</td>\n",
       "      <td>0</td>\n",
       "      <td>0</td>\n",
       "      <td>3</td>\n",
       "      <td>24</td>\n",
       "      <td>3</td>\n",
       "      <td>20</td>\n",
       "      <td>1</td>\n",
       "      <td>0.000</td>\n",
       "    </tr>\n",
       "    <tr>\n",
       "      <th>2</th>\n",
       "      <td>Akron Village</td>\n",
       "      <td>2,846</td>\n",
       "      <td>3</td>\n",
       "      <td>0</td>\n",
       "      <td>nan</td>\n",
       "      <td>0</td>\n",
       "      <td>0</td>\n",
       "      <td>3</td>\n",
       "      <td>16</td>\n",
       "      <td>1</td>\n",
       "      <td>15</td>\n",
       "      <td>0</td>\n",
       "      <td>0.000</td>\n",
       "    </tr>\n",
       "    <tr>\n",
       "      <th>3</th>\n",
       "      <td>Albany</td>\n",
       "      <td>97,956</td>\n",
       "      <td>791</td>\n",
       "      <td>8</td>\n",
       "      <td>nan</td>\n",
       "      <td>30</td>\n",
       "      <td>227</td>\n",
       "      <td>526</td>\n",
       "      <td>4,090</td>\n",
       "      <td>705</td>\n",
       "      <td>3,243</td>\n",
       "      <td>142</td>\n",
       "      <td>nan</td>\n",
       "    </tr>\n",
       "    <tr>\n",
       "      <th>4</th>\n",
       "      <td>Albion Village</td>\n",
       "      <td>6,388</td>\n",
       "      <td>23</td>\n",
       "      <td>0</td>\n",
       "      <td>nan</td>\n",
       "      <td>3</td>\n",
       "      <td>4</td>\n",
       "      <td>16</td>\n",
       "      <td>223</td>\n",
       "      <td>53</td>\n",
       "      <td>165</td>\n",
       "      <td>5</td>\n",
       "      <td>nan</td>\n",
       "    </tr>\n",
       "    <tr>\n",
       "      <th>5</th>\n",
       "      <td>Alfred Village</td>\n",
       "      <td>4,089</td>\n",
       "      <td>5</td>\n",
       "      <td>0</td>\n",
       "      <td>nan</td>\n",
       "      <td>0</td>\n",
       "      <td>3</td>\n",
       "      <td>2</td>\n",
       "      <td>46</td>\n",
       "      <td>10</td>\n",
       "      <td>36</td>\n",
       "      <td>0</td>\n",
       "      <td>nan</td>\n",
       "    </tr>\n",
       "    <tr>\n",
       "      <th>6</th>\n",
       "      <td>Allegany Village</td>\n",
       "      <td>1,781</td>\n",
       "      <td>3</td>\n",
       "      <td>0</td>\n",
       "      <td>nan</td>\n",
       "      <td>0</td>\n",
       "      <td>0</td>\n",
       "      <td>3</td>\n",
       "      <td>10</td>\n",
       "      <td>0</td>\n",
       "      <td>10</td>\n",
       "      <td>0</td>\n",
       "      <td>0.000</td>\n",
       "    </tr>\n",
       "    <tr>\n",
       "      <th>7</th>\n",
       "      <td>Amherst Town</td>\n",
       "      <td>118,296</td>\n",
       "      <td>107</td>\n",
       "      <td>1</td>\n",
       "      <td>nan</td>\n",
       "      <td>7</td>\n",
       "      <td>31</td>\n",
       "      <td>68</td>\n",
       "      <td>2,118</td>\n",
       "      <td>204</td>\n",
       "      <td>1,882</td>\n",
       "      <td>32</td>\n",
       "      <td>3.000</td>\n",
       "    </tr>\n",
       "    <tr>\n",
       "      <th>8</th>\n",
       "      <td>Amityville Village</td>\n",
       "      <td>9,519</td>\n",
       "      <td>9</td>\n",
       "      <td>0</td>\n",
       "      <td>nan</td>\n",
       "      <td>2</td>\n",
       "      <td>4</td>\n",
       "      <td>3</td>\n",
       "      <td>210</td>\n",
       "      <td>16</td>\n",
       "      <td>188</td>\n",
       "      <td>6</td>\n",
       "      <td>1.000</td>\n",
       "    </tr>\n",
       "    <tr>\n",
       "      <th>9</th>\n",
       "      <td>Amsterdam</td>\n",
       "      <td>18,182</td>\n",
       "      <td>30</td>\n",
       "      <td>0</td>\n",
       "      <td>nan</td>\n",
       "      <td>0</td>\n",
       "      <td>12</td>\n",
       "      <td>18</td>\n",
       "      <td>405</td>\n",
       "      <td>99</td>\n",
       "      <td>291</td>\n",
       "      <td>15</td>\n",
       "      <td>0.000</td>\n",
       "    </tr>\n",
       "  </tbody>\n",
       "</table>\n",
       "</div>"
      ],
      "text/plain": [
       "                       City Population Violent\\ncrime  \\\n",
       "0             Adams Village      1,861              0   \n",
       "1  Addison Town and Village      2,577              3   \n",
       "2             Akron Village      2,846              3   \n",
       "3                    Albany     97,956            791   \n",
       "4            Albion Village      6,388             23   \n",
       "5            Alfred Village      4,089              5   \n",
       "6          Allegany Village      1,781              3   \n",
       "7              Amherst Town    118,296            107   \n",
       "8        Amityville Village      9,519              9   \n",
       "9                 Amsterdam     18,182             30   \n",
       "\n",
       "   Murder and\\nnonnegligent\\nmanslaughter  Rape\\n(revised\\ndefinition)1  \\\n",
       "0                                       0                           nan   \n",
       "1                                       0                           nan   \n",
       "2                                       0                           nan   \n",
       "3                                       8                           nan   \n",
       "4                                       0                           nan   \n",
       "5                                       0                           nan   \n",
       "6                                       0                           nan   \n",
       "7                                       1                           nan   \n",
       "8                                       0                           nan   \n",
       "9                                       0                           nan   \n",
       "\n",
       "  Rape\\n(legacy\\ndefinition)2 Robbery Aggravated\\nassault Property\\ncrime  \\\n",
       "0                           0       0                   0              12   \n",
       "1                           0       0                   3              24   \n",
       "2                           0       0                   3              16   \n",
       "3                          30     227                 526           4,090   \n",
       "4                           3       4                  16             223   \n",
       "5                           0       3                   2              46   \n",
       "6                           0       0                   3              10   \n",
       "7                           7      31                  68           2,118   \n",
       "8                           2       4                   3             210   \n",
       "9                           0      12                  18             405   \n",
       "\n",
       "  Burglary Larceny-\\ntheft Motor\\nvehicle\\ntheft  Arson3  \n",
       "0        2              10                     0   0.000  \n",
       "1        3              20                     1   0.000  \n",
       "2        1              15                     0   0.000  \n",
       "3      705           3,243                   142     nan  \n",
       "4       53             165                     5     nan  \n",
       "5       10              36                     0     nan  \n",
       "6        0              10                     0   0.000  \n",
       "7      204           1,882                    32   3.000  \n",
       "8       16             188                     6   1.000  \n",
       "9       99             291                    15   0.000  "
      ]
     },
     "execution_count": 3,
     "metadata": {},
     "output_type": "execute_result"
    }
   ],
   "source": [
    "#Let see what our imported data set looks like. \n",
    "df.head(10)"
   ]
  },
  {
   "cell_type": "code",
   "execution_count": 4,
   "metadata": {},
   "outputs": [
    {
     "name": "stdout",
     "output_type": "stream",
     "text": [
      "<class 'pandas.core.frame.DataFrame'>\n",
      "RangeIndex: 348 entries, 0 to 347\n",
      "Data columns (total 13 columns):\n",
      "City                                    348 non-null object\n",
      "Population                              348 non-null object\n",
      "Violent\n",
      "crime                           348 non-null object\n",
      "Murder and\n",
      "nonnegligent\n",
      "manslaughter    348 non-null int64\n",
      "Rape\n",
      "(revised\n",
      "definition)1              0 non-null float64\n",
      "Rape\n",
      "(legacy\n",
      "definition)2               348 non-null object\n",
      "Robbery                                 348 non-null object\n",
      "Aggravated\n",
      "assault                      348 non-null object\n",
      "Property\n",
      "crime                          348 non-null object\n",
      "Burglary                                348 non-null object\n",
      "Larceny-\n",
      "theft                          348 non-null object\n",
      "Motor\n",
      "vehicle\n",
      "theft                     348 non-null object\n",
      "Arson3                                  187 non-null float64\n",
      "dtypes: float64(2), int64(1), object(10)\n",
      "memory usage: 35.4+ KB\n"
     ]
    }
   ],
   "source": [
    "df.info()"
   ]
  },
  {
   "cell_type": "markdown",
   "metadata": {},
   "source": [
    "Looks like there are some null values in our data set, like the \"Rape (revised definition)1\" column and \"Arson3\" column. We will look at our data set description later and clean up the null values. From df.info, we see that some of the column names are long, and it may be inconvenicent when we use these columns for our model (I am too lazy to type long column names). Therefore, let's replace some of the long column names with shorter ones. "
   ]
  },
  {
   "cell_type": "code",
   "execution_count": 5,
   "metadata": {},
   "outputs": [
    {
     "data": {
      "text/plain": [
       "['City',\n",
       " 'Population',\n",
       " 'Violent\\ncrime',\n",
       " 'Murder and\\nnonnegligent\\nmanslaughter',\n",
       " 'Rape\\n(revised\\ndefinition)1',\n",
       " 'Rape\\n(legacy\\ndefinition)2',\n",
       " 'Robbery',\n",
       " 'Aggravated\\nassault',\n",
       " 'Property\\ncrime',\n",
       " 'Burglary',\n",
       " 'Larceny-\\ntheft',\n",
       " 'Motor\\nvehicle\\ntheft',\n",
       " 'Arson3']"
      ]
     },
     "execution_count": 5,
     "metadata": {},
     "output_type": "execute_result"
    }
   ],
   "source": [
    "#List all the column names. \n",
    "list(df)"
   ]
  },
  {
   "cell_type": "code",
   "execution_count": 6,
   "metadata": {},
   "outputs": [],
   "source": [
    "#Looks like some columns have format issue too. We will fix that as well. \n",
    "df.rename(columns={'Violent\\ncrime':'ViolentCrime'},inplace=True)\n",
    "df.rename(columns={'Murder and\\nnonnegligent\\nmanslaughter':'Murder'},inplace=True)\n",
    "df.rename(columns={'Rape\\n(revised\\ndefinition)1':'Rape_1'},inplace=True)\n",
    "df.rename(columns={'Rape\\n(legacy\\ndefinition)2':'Rape_2'},inplace=True)\n",
    "df.rename(columns={'Aggravated\\nassault':'AggravatedAssault'},inplace=True)\n",
    "df.rename(columns={'Property\\ncrime':'PropertyCrime'},inplace=True)\n",
    "df.rename(columns={'Larceny-\\ntheft':'LarcenyTheft'},inplace=True)\n",
    "df.rename(columns={'Motor\\nvehicle\\ntheft':'MotorVehicleTheft'},inplace=True)"
   ]
  },
  {
   "cell_type": "code",
   "execution_count": 7,
   "metadata": {},
   "outputs": [
    {
     "data": {
      "text/plain": [
       "['City',\n",
       " 'Population',\n",
       " 'ViolentCrime',\n",
       " 'Murder',\n",
       " 'Rape_1',\n",
       " 'Rape_2',\n",
       " 'Robbery',\n",
       " 'AggravatedAssault',\n",
       " 'PropertyCrime',\n",
       " 'Burglary',\n",
       " 'LarcenyTheft',\n",
       " 'MotorVehicleTheft',\n",
       " 'Arson3']"
      ]
     },
     "execution_count": 7,
     "metadata": {},
     "output_type": "execute_result"
    }
   ],
   "source": [
    "#Let's check our column names again. \n",
    "list(df)"
   ]
  },
  {
   "cell_type": "markdown",
   "metadata": {},
   "source": [
    "From our previous df.info, we can see that the whole column of \"Rape (revised definition)1\" is null value. The data set declearation did not provide too much information about why this whole colum is all null. Therefore, we will ignore this column while building our regression model. \n",
    "\n",
    "For the \"Arson3\" column, we have some null value here. In the data declearation, it stated that (Arson is not included in the property crime total in this table; however, if complete arson data were provided, they will appear in the arson column.) and (The FBI does not publish arson data unless it receives data from either the agency or the state for all 12 months of the calendar year.) Therefore, null Arson data means the agency or states did not provide the Arson data to the FBI. However, I would like to see the difference between models with Arson and without Arson data. Therefore, for practice purposes, the null Arson will replace with value 0. \n",
    "\n",
    "Also, by looking at the df.info, we see that there are only 3 columns contains float and int, the rest are objects, which means some of the number are classfied as str here. It will cause troubles for our model. Hence, we will need to fix this as well. "
   ]
  },
  {
   "cell_type": "code",
   "execution_count": 8,
   "metadata": {},
   "outputs": [],
   "source": [
    "df['Population'] = pd.to_numeric(df['Population'].str.replace(',',''))\n",
    "df['ViolentCrime'] = pd.to_numeric(df['ViolentCrime'].str.replace(',',''))\n",
    "df['Rape_2'] = pd.to_numeric(df['Rape_2'].str.replace(',',''))\n",
    "df['Robbery'] = pd.to_numeric(df['Robbery'].str.replace(',',''))\n",
    "df['AggravatedAssault'] = pd.to_numeric(df['AggravatedAssault'].str.replace(',',''))\n",
    "df['PropertyCrime'] = pd.to_numeric(df['PropertyCrime'].str.replace(',',''))\n",
    "df['Burglary'] = pd.to_numeric(df['Burglary'].str.replace(',',''))\n",
    "df['LarcenyTheft'] = pd.to_numeric(df['LarcenyTheft'].str.replace(',',''))\n",
    "df['MotorVehicleTheft'] = pd.to_numeric(df['MotorVehicleTheft'].str.replace(',',''))\n",
    "df['Arson3_fillna'] = df['Arson3'].fillna(0)"
   ]
  },
  {
   "cell_type": "markdown",
   "metadata": {},
   "source": [
    "### OLS Regression Model\n",
    "\n",
    "We have clean our data and look at our features. Next, we will build the regression model. "
   ]
  },
  {
   "cell_type": "code",
   "execution_count": 9,
   "metadata": {},
   "outputs": [
    {
     "name": "stdout",
     "output_type": "stream",
     "text": [
      "\n",
      "The R-squared for OLS:\n",
      "0.9990024878038867\n",
      "\n",
      "The R-squared for KNN:\n",
      "0.24299855717902097\n",
      "\n",
      "The R-squared for Weighted KNN:\n",
      "1.0\n"
     ]
    }
   ],
   "source": [
    "Y = df['PropertyCrime']\n",
    "X = df[['Population','ViolentCrime','Murder','Rape_2','Robbery','AggravatedAssault']]\n",
    "\n",
    "regr = linear_model.LinearRegression()\n",
    "regr.fit(X, Y)\n",
    "\n",
    "knn = neighbors.KNeighborsRegressor(n_neighbors=10)\n",
    "knn.fit(X, Y)\n",
    "\n",
    "knn_w = neighbors.KNeighborsRegressor(n_neighbors=10, weights='distance')\n",
    "knn_w.fit(X, Y)\n",
    "\n",
    "# Inspect the results.\n",
    "print('\\nThe R-squared for OLS:')\n",
    "print(regr.score(X, Y))\n",
    "\n",
    "print('\\nThe R-squared for KNN:')\n",
    "print(knn.score(X, Y))\n",
    "\n",
    "print('\\nThe R-squared for Weighted KNN:')\n",
    "print(knn_w.score(X, Y))"
   ]
  },
  {
   "cell_type": "markdown",
   "metadata": {},
   "source": [
    "### Crime per Capita\n",
    "After trying these two models, let's try one more thing. We see that we have several outliners in the data, which are some cities with a high property crime numbers. Those cities with high property crime number often have high population as well. However, we cannot just remove those outliners from our model, because they are not some \"bad\" data points. Therefore, I would like to create some new features, and construct a new model, based on crime per capita instead of total number of crimes. The model itself will also change to property crime per capita to justify this change. "
   ]
  },
  {
   "cell_type": "code",
   "execution_count": 10,
   "metadata": {},
   "outputs": [],
   "source": [
    "df['ViolentCrime_PC'] = df.apply(lambda x: x['ViolentCrime']/x['Population'], axis=1)\n",
    "df['Murder_PC'] = df.apply(lambda x: x['Murder']/x['Population'], axis=1)\n",
    "df['Rape_2_PC'] = df.apply(lambda x: x['Rape_2']/x['Population'], axis=1)\n",
    "df['Robbery_PC'] = df.apply(lambda x: x['Robbery']/x['Population'], axis=1)\n",
    "df['AggravatedAssault_PC'] = df.apply(lambda x: x['AggravatedAssault']/x['Population'], axis=1)\n",
    "df['PropertyCrime_PC'] = df.apply(lambda x: x['PropertyCrime']/x['Population'], axis=1)\n",
    "df['Burglary_PC'] = df.apply(lambda x: x['Burglary']/x['Population'], axis=1)\n",
    "df['LarcenyTheft_PC'] = df.apply(lambda x: x['LarcenyTheft']/x['Population'], axis=1)\n",
    "df['MotorVehicleTheft_PC'] = df.apply(lambda x: x['MotorVehicleTheft']/x['Population'], axis=1)"
   ]
  },
  {
   "cell_type": "code",
   "execution_count": 11,
   "metadata": {},
   "outputs": [
    {
     "name": "stdout",
     "output_type": "stream",
     "text": [
      "\n",
      "The R-squared for OLS:\n",
      "0.32521132383967044\n",
      "\n",
      "The R-squared for KNN:\n",
      "0.4468998197108943\n",
      "\n",
      "The R-squared for Weighted KNN:\n",
      "0.9282738052156343\n"
     ]
    }
   ],
   "source": [
    "Y_PC = df['PropertyCrime_PC']\n",
    "X_PC = df[['ViolentCrime_PC','Murder_PC','Rape_2_PC','Robbery_PC','AggravatedAssault_PC']]\n",
    "\n",
    "regr_PC = linear_model.LinearRegression()\n",
    "regr_PC.fit(X_PC, Y_PC)\n",
    "\n",
    "knn_PC = neighbors.KNeighborsRegressor(n_neighbors=10)\n",
    "knn_PC.fit(X_PC, Y_PC)\n",
    "\n",
    "knn_PC_w = neighbors.KNeighborsRegressor(n_neighbors=10, weights='distance')\n",
    "knn_PC_w.fit(X_PC, Y_PC)\n",
    "\n",
    "print('\\nThe R-squared for OLS:')\n",
    "print(regr_PC.score(X_PC, Y_PC))\n",
    "\n",
    "print('\\nThe R-squared for KNN:')\n",
    "print(knn_PC.score(X_PC, Y_PC))\n",
    "\n",
    "print('\\nThe R-squared for Weighted KNN:')\n",
    "print(knn_PC_w.score(X_PC, Y_PC))"
   ]
  },
  {
   "cell_type": "code",
   "execution_count": 12,
   "metadata": {},
   "outputs": [],
   "source": [
    "from sklearn import preprocessing\n",
    "\n",
    "normalized_X = preprocessing.normalize(X)"
   ]
  },
  {
   "cell_type": "code",
   "execution_count": 13,
   "metadata": {},
   "outputs": [
    {
     "name": "stdout",
     "output_type": "stream",
     "text": [
      "\n",
      "The R-squared for Normalized_OLS:\n",
      "0.06976113240000348\n",
      "\n",
      "The R-squared for Normalized KNN:\n",
      "0.11316559553630368\n",
      "\n",
      "The R-squared for Normalized Weighted KNN:\n",
      "0.9999987885457838\n"
     ]
    }
   ],
   "source": [
    "normalized_regr = linear_model.LinearRegression()\n",
    "normalized_regr.fit(normalized_X, Y)\n",
    "\n",
    "normalized_knn = neighbors.KNeighborsRegressor(n_neighbors=10)\n",
    "normalized_knn.fit(normalized_X, Y)\n",
    "\n",
    "normalized_knn_w = neighbors.KNeighborsRegressor(n_neighbors=10, weights='distance')\n",
    "normalized_knn_w.fit(normalized_X, Y)\n",
    "\n",
    "# Inspect the results.\n",
    "print('\\nThe R-squared for Normalized_OLS:')\n",
    "print(normalized_regr.score(normalized_X, Y))\n",
    "\n",
    "print('\\nThe R-squared for Normalized KNN:')\n",
    "print(normalized_knn.score(normalized_X, Y))\n",
    "\n",
    "print('\\nThe R-squared for Normalized Weighted KNN:')\n",
    "print(normalized_knn_w.score(normalized_X, Y))"
   ]
  },
  {
   "cell_type": "code",
   "execution_count": 14,
   "metadata": {},
   "outputs": [],
   "source": [
    "standard_X = preprocessing.scale(X)"
   ]
  },
  {
   "cell_type": "code",
   "execution_count": 15,
   "metadata": {},
   "outputs": [
    {
     "name": "stdout",
     "output_type": "stream",
     "text": [
      "\n",
      "The R-squared for Standardized OLS:\n",
      "0.9990024878038867\n",
      "\n",
      "The R-squared for Standardized KNN:\n",
      "0.2447082787584106\n",
      "\n",
      "The R-squared for Standardized Weighted KNN:\n",
      "1.0\n"
     ]
    }
   ],
   "source": [
    "standard_regr = linear_model.LinearRegression()\n",
    "standard_regr.fit(standard_X, Y)\n",
    "\n",
    "standard_knn = neighbors.KNeighborsRegressor(n_neighbors=10)\n",
    "standard_knn.fit(standard_X, Y)\n",
    "\n",
    "standard_knn_w = neighbors.KNeighborsRegressor(n_neighbors=10, weights='distance')\n",
    "standard_knn_w.fit(standard_X, Y)\n",
    "\n",
    "# Inspect the results.\n",
    "print('\\nThe R-squared for Standardized OLS:')\n",
    "print(standard_regr.score(standard_X, Y))\n",
    "\n",
    "print('\\nThe R-squared for Standardized KNN:')\n",
    "print(standard_knn.score(standard_X, Y))\n",
    "\n",
    "print('\\nThe R-squared for Standardized Weighted KNN:')\n",
    "print(standard_knn_w.score(standard_X, Y))"
   ]
  },
  {
   "cell_type": "code",
   "execution_count": 16,
   "metadata": {},
   "outputs": [],
   "source": [
    "normalized_X_PC = preprocessing.normalize(X_PC)"
   ]
  },
  {
   "cell_type": "code",
   "execution_count": 17,
   "metadata": {},
   "outputs": [
    {
     "name": "stdout",
     "output_type": "stream",
     "text": [
      "\n",
      "The R-squared for Normalized_OLS:\n",
      "0.14690142117355665\n",
      "\n",
      "The R-squared for Normalized KNN:\n",
      "0.27032376440990813\n",
      "\n",
      "The R-squared for Normalized Weighted KNN:\n",
      "0.7766677774072643\n"
     ]
    }
   ],
   "source": [
    "normalized_regr_PC = linear_model.LinearRegression()\n",
    "normalized_regr_PC.fit(normalized_X_PC, Y_PC)\n",
    "\n",
    "normalized_knn_PC = neighbors.KNeighborsRegressor(n_neighbors=10)\n",
    "normalized_knn_PC.fit(normalized_X_PC, Y_PC)\n",
    "\n",
    "normalized_knn_PC_w = neighbors.KNeighborsRegressor(n_neighbors=10, weights='distance')\n",
    "normalized_knn_PC_w.fit(normalized_X_PC, Y_PC)\n",
    "\n",
    "# Inspect the results.\n",
    "print('\\nThe R-squared for Normalized_OLS:')\n",
    "print(normalized_regr_PC.score(normalized_X_PC, Y_PC))\n",
    "\n",
    "print('\\nThe R-squared for Normalized KNN:')\n",
    "print(normalized_knn_PC.score(normalized_X_PC, Y_PC))\n",
    "\n",
    "print('\\nThe R-squared for Normalized Weighted KNN:')\n",
    "print(normalized_knn_PC_w.score(normalized_X_PC, Y_PC))"
   ]
  },
  {
   "cell_type": "code",
   "execution_count": 18,
   "metadata": {},
   "outputs": [],
   "source": [
    "standard_X_PC = preprocessing.scale(X_PC)"
   ]
  },
  {
   "cell_type": "code",
   "execution_count": 19,
   "metadata": {},
   "outputs": [
    {
     "name": "stdout",
     "output_type": "stream",
     "text": [
      "\n",
      "The R-squared for Standardized OLS:\n",
      "0.32521132383967044\n",
      "\n",
      "The R-squared for Standardized KNN:\n",
      "0.4428539838177446\n",
      "\n",
      "The R-squared for Standardized Weighted KNN:\n",
      "0.9281146467279509\n"
     ]
    }
   ],
   "source": [
    "standard_regr_PC = linear_model.LinearRegression()\n",
    "standard_regr_PC.fit(standard_X_PC, Y_PC)\n",
    "\n",
    "standard_knn_PC = neighbors.KNeighborsRegressor(n_neighbors=10)\n",
    "standard_knn_PC.fit(standard_X_PC, Y_PC)\n",
    "\n",
    "standard_knn_PC_w = neighbors.KNeighborsRegressor(n_neighbors=10, weights='distance')\n",
    "standard_knn_PC_w.fit(standard_X_PC, Y_PC)\n",
    "\n",
    "# Inspect the results.\n",
    "print('\\nThe R-squared for Standardized OLS:')\n",
    "print(standard_regr_PC.score(standard_X_PC, Y_PC))\n",
    "\n",
    "print('\\nThe R-squared for Standardized KNN:')\n",
    "print(standard_knn_PC.score(standard_X_PC, Y_PC))\n",
    "\n",
    "print('\\nThe R-squared for Standardized Weighted KNN:')\n",
    "print(standard_knn_PC_w.score(standard_X_PC, Y_PC))"
   ]
  },
  {
   "cell_type": "code",
   "execution_count": 20,
   "metadata": {},
   "outputs": [
    {
     "name": "stdout",
     "output_type": "stream",
     "text": [
      "Weighted Accuracy: 0.46 (+/- 0.49)\n",
      "Weighted Accuracy for Crime per Capita: 0.29 (+/- 0.18)\n",
      "Weighted Accuracy for Normalized KNN: -44.82 (+/- 158.33)\n",
      "Weighted Accuracy for Standardized KNN: 0.55 (+/- 0.53)\n",
      "Weighted Accuracy for Normalized Per Capita KNN: 0.03 (+/- 0.18)\n",
      "Weighted Accuracy for Standardized Per Capita KNN: 0.30 (+/- 0.17)\n"
     ]
    }
   ],
   "source": [
    "from sklearn.model_selection import cross_val_score\n",
    "\n",
    "score_w = cross_val_score(knn_w, X, Y, cv=5)\n",
    "print(\"Weighted Accuracy: %0.2f (+/- %0.2f)\" % (score_w.mean(), score_w.std() * 2))\n",
    "\n",
    "score_w_PC = cross_val_score(knn_PC_w, X_PC, Y_PC, cv=5)\n",
    "print(\"Weighted Accuracy for Crime per Capita: %0.2f (+/- %0.2f)\" % (score_w_PC.mean(), score_w_PC.std() * 2))\n",
    "\n",
    "score_w_normalized = cross_val_score(normalized_knn_w, normalized_X, Y, cv=5)\n",
    "print(\"Weighted Accuracy for Normalized KNN: %0.2f (+/- %0.2f)\" % (score_w_normalized.mean(), score_w_normalized.std() * 2))\n",
    "\n",
    "score_w_standard = cross_val_score(standard_knn_w, standard_X, Y, cv=5)\n",
    "print(\"Weighted Accuracy for Standardized KNN: %0.2f (+/- %0.2f)\" % (score_w_standard.mean(), score_w_standard.std() * 2))\n",
    "\n",
    "score_w_normalized_PC = cross_val_score(normalized_knn_PC_w, normalized_X_PC, Y_PC, cv=5)\n",
    "print(\"Weighted Accuracy for Normalized Per Capita KNN: %0.2f (+/- %0.2f)\" % (score_w_normalized_PC.mean(), score_w_normalized_PC.std() * 2))\n",
    "\n",
    "score_w_standard_PC = cross_val_score(standard_knn_PC_w, standard_X_PC, Y_PC, cv=5)\n",
    "print(\"Weighted Accuracy for Standardized Per Capita KNN: %0.2f (+/- %0.2f)\" % (score_w_standard_PC.mean(), score_w_standard_PC.std() * 2))"
   ]
  },
  {
   "cell_type": "markdown",
   "metadata": {},
   "source": [
    "### Written\n",
    "We have tried several models above, including fitting the regular data set, dividing all crimes by population to make it crime per capita, normalizing the data, and rescaling the data. We can see that when using the original data set without standardizing and normalizing, the OLS model and weight model have higher R squared value compare to the non-weighted KNN model. However, looking at the cross validation score of the weighted KNN model, we see that the weighted accuracy is only 0.46 with 0.49 standard deviation, which means our perfect R squared value at the original weighted model is overfitting. \n",
    "\n",
    "When doing these two regression models using the same data set, we see that normalizing the data or standarding the data does not help increase the performance of the model. The OLS model works well when using the original data set. However, if we change the data set to crime per capita, the KNN regression model works better than the OLS model. I believe this is because the OLS model itself still needs improvment for the crime per capita data. The KNN regression works better using the crime per capita data is because this is kind of rescaling the data set, which is better for KNN model. If we look at the R-squared value of the weighted KNN regression model, we often see that the weighted KNN regression have a higher R-squared value, regardless of which data set is using. This is because KNN regression model does not have much assumption here. The KNN regression model can be easily fitted into majority of data set and perform very well. However, KNN regression model often require larger storage space for the data, and more computational power when fitting the model. OLS regression model require less storage once the model is created and less computational power when fitting the power. "
   ]
  }
 ],
 "metadata": {
  "kernelspec": {
   "display_name": "Python 3",
   "language": "python",
   "name": "python3"
  },
  "language_info": {
   "codemirror_mode": {
    "name": "ipython",
    "version": 3
   },
   "file_extension": ".py",
   "mimetype": "text/x-python",
   "name": "python",
   "nbconvert_exporter": "python",
   "pygments_lexer": "ipython3",
   "version": "3.7.0"
  }
 },
 "nbformat": 4,
 "nbformat_minor": 2
}
