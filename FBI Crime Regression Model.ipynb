{
 "cells": [
  {
   "cell_type": "markdown",
   "metadata": {},
   "source": [
    "## FBI Crime Regression Model for NYS. \n",
    "\n",
    "This is a Thinkful assignment for building a regression model for below data set. \n",
    "https://ucr.fbi.gov/crime-in-the-u.s/2013/crime-in-the-u.s.-2013/tables/table-8/table-8-state-cuts/table_8_offenses_known_to_law_enforcement_new_york_by_city_2013.xls\n",
    "\n",
    "This data set contains New York State FBI Crime Data for year 2013. Ths goal of this assignment is to build a regression model to predict property crimes using this data set. This assignment will includes data cleaning, feature selections, and finally building the regression model. "
   ]
  },
  {
   "cell_type": "code",
   "execution_count": 1,
   "metadata": {},
   "outputs": [],
   "source": [
    "import math\n",
    "import warnings\n",
    "\n",
    "from IPython.display import display\n",
    "from matplotlib import pyplot as plt\n",
    "import matplotlib.gridspec as gridspec\n",
    "import numpy as np\n",
    "import pandas as pd\n",
    "import seaborn as sns\n",
    "from sklearn import linear_model\n",
    "import statsmodels.formula.api as smf\n",
    "\n",
    "# Display preferences.\n",
    "%matplotlib inline\n",
    "pd.options.display.float_format = '{:.3f}'.format\n",
    "\n",
    "import warnings\n",
    "warnings.filterwarnings(action=\"ignore\", module=\"scipy\", message=\"^internal gelsd\")"
   ]
  },
  {
   "cell_type": "code",
   "execution_count": 2,
   "metadata": {},
   "outputs": [
    {
     "name": "stderr",
     "output_type": "stream",
     "text": [
      "C:\\dev_software\\Anaconda3\\lib\\site-packages\\ipykernel_launcher.py:3: ParserWarning: Falling back to the 'python' engine because the 'c' engine does not support skipfooter; you can avoid this warning by specifying engine='python'.\n",
      "  This is separate from the ipykernel package so we can avoid doing imports until\n"
     ]
    }
   ],
   "source": [
    "#Our data set have some headers and footers, and we need to skip those headers and footers, and just import our data. \n",
    "df = pd.read_csv('https://raw.githubusercontent.com/Thinkful-Ed/data-201-resources/master/New_York_offenses/NEW_YORK-Offenses_Known_to_Law_Enforcement_by_City_2013%20-%2013tbl8ny.csv',\n",
    "                 skiprows=4,skipfooter=3,header=0,na_values='nan')"
   ]
  },
  {
   "cell_type": "markdown",
   "metadata": {},
   "source": [
    "### Data Cleaning"
   ]
  },
  {
   "cell_type": "code",
   "execution_count": 3,
   "metadata": {},
   "outputs": [
    {
     "data": {
      "text/html": [
       "<div>\n",
       "<style scoped>\n",
       "    .dataframe tbody tr th:only-of-type {\n",
       "        vertical-align: middle;\n",
       "    }\n",
       "\n",
       "    .dataframe tbody tr th {\n",
       "        vertical-align: top;\n",
       "    }\n",
       "\n",
       "    .dataframe thead th {\n",
       "        text-align: right;\n",
       "    }\n",
       "</style>\n",
       "<table border=\"1\" class=\"dataframe\">\n",
       "  <thead>\n",
       "    <tr style=\"text-align: right;\">\n",
       "      <th></th>\n",
       "      <th>City</th>\n",
       "      <th>Population</th>\n",
       "      <th>Violent\n",
       "crime</th>\n",
       "      <th>Murder and\n",
       "nonnegligent\n",
       "manslaughter</th>\n",
       "      <th>Rape\n",
       "(revised\n",
       "definition)1</th>\n",
       "      <th>Rape\n",
       "(legacy\n",
       "definition)2</th>\n",
       "      <th>Robbery</th>\n",
       "      <th>Aggravated\n",
       "assault</th>\n",
       "      <th>Property\n",
       "crime</th>\n",
       "      <th>Burglary</th>\n",
       "      <th>Larceny-\n",
       "theft</th>\n",
       "      <th>Motor\n",
       "vehicle\n",
       "theft</th>\n",
       "      <th>Arson3</th>\n",
       "    </tr>\n",
       "  </thead>\n",
       "  <tbody>\n",
       "    <tr>\n",
       "      <th>0</th>\n",
       "      <td>Adams Village</td>\n",
       "      <td>1,861</td>\n",
       "      <td>0</td>\n",
       "      <td>0</td>\n",
       "      <td>nan</td>\n",
       "      <td>0</td>\n",
       "      <td>0</td>\n",
       "      <td>0</td>\n",
       "      <td>12</td>\n",
       "      <td>2</td>\n",
       "      <td>10</td>\n",
       "      <td>0</td>\n",
       "      <td>0.000</td>\n",
       "    </tr>\n",
       "    <tr>\n",
       "      <th>1</th>\n",
       "      <td>Addison Town and Village</td>\n",
       "      <td>2,577</td>\n",
       "      <td>3</td>\n",
       "      <td>0</td>\n",
       "      <td>nan</td>\n",
       "      <td>0</td>\n",
       "      <td>0</td>\n",
       "      <td>3</td>\n",
       "      <td>24</td>\n",
       "      <td>3</td>\n",
       "      <td>20</td>\n",
       "      <td>1</td>\n",
       "      <td>0.000</td>\n",
       "    </tr>\n",
       "    <tr>\n",
       "      <th>2</th>\n",
       "      <td>Akron Village</td>\n",
       "      <td>2,846</td>\n",
       "      <td>3</td>\n",
       "      <td>0</td>\n",
       "      <td>nan</td>\n",
       "      <td>0</td>\n",
       "      <td>0</td>\n",
       "      <td>3</td>\n",
       "      <td>16</td>\n",
       "      <td>1</td>\n",
       "      <td>15</td>\n",
       "      <td>0</td>\n",
       "      <td>0.000</td>\n",
       "    </tr>\n",
       "    <tr>\n",
       "      <th>3</th>\n",
       "      <td>Albany</td>\n",
       "      <td>97,956</td>\n",
       "      <td>791</td>\n",
       "      <td>8</td>\n",
       "      <td>nan</td>\n",
       "      <td>30</td>\n",
       "      <td>227</td>\n",
       "      <td>526</td>\n",
       "      <td>4,090</td>\n",
       "      <td>705</td>\n",
       "      <td>3,243</td>\n",
       "      <td>142</td>\n",
       "      <td>nan</td>\n",
       "    </tr>\n",
       "    <tr>\n",
       "      <th>4</th>\n",
       "      <td>Albion Village</td>\n",
       "      <td>6,388</td>\n",
       "      <td>23</td>\n",
       "      <td>0</td>\n",
       "      <td>nan</td>\n",
       "      <td>3</td>\n",
       "      <td>4</td>\n",
       "      <td>16</td>\n",
       "      <td>223</td>\n",
       "      <td>53</td>\n",
       "      <td>165</td>\n",
       "      <td>5</td>\n",
       "      <td>nan</td>\n",
       "    </tr>\n",
       "    <tr>\n",
       "      <th>5</th>\n",
       "      <td>Alfred Village</td>\n",
       "      <td>4,089</td>\n",
       "      <td>5</td>\n",
       "      <td>0</td>\n",
       "      <td>nan</td>\n",
       "      <td>0</td>\n",
       "      <td>3</td>\n",
       "      <td>2</td>\n",
       "      <td>46</td>\n",
       "      <td>10</td>\n",
       "      <td>36</td>\n",
       "      <td>0</td>\n",
       "      <td>nan</td>\n",
       "    </tr>\n",
       "    <tr>\n",
       "      <th>6</th>\n",
       "      <td>Allegany Village</td>\n",
       "      <td>1,781</td>\n",
       "      <td>3</td>\n",
       "      <td>0</td>\n",
       "      <td>nan</td>\n",
       "      <td>0</td>\n",
       "      <td>0</td>\n",
       "      <td>3</td>\n",
       "      <td>10</td>\n",
       "      <td>0</td>\n",
       "      <td>10</td>\n",
       "      <td>0</td>\n",
       "      <td>0.000</td>\n",
       "    </tr>\n",
       "    <tr>\n",
       "      <th>7</th>\n",
       "      <td>Amherst Town</td>\n",
       "      <td>118,296</td>\n",
       "      <td>107</td>\n",
       "      <td>1</td>\n",
       "      <td>nan</td>\n",
       "      <td>7</td>\n",
       "      <td>31</td>\n",
       "      <td>68</td>\n",
       "      <td>2,118</td>\n",
       "      <td>204</td>\n",
       "      <td>1,882</td>\n",
       "      <td>32</td>\n",
       "      <td>3.000</td>\n",
       "    </tr>\n",
       "    <tr>\n",
       "      <th>8</th>\n",
       "      <td>Amityville Village</td>\n",
       "      <td>9,519</td>\n",
       "      <td>9</td>\n",
       "      <td>0</td>\n",
       "      <td>nan</td>\n",
       "      <td>2</td>\n",
       "      <td>4</td>\n",
       "      <td>3</td>\n",
       "      <td>210</td>\n",
       "      <td>16</td>\n",
       "      <td>188</td>\n",
       "      <td>6</td>\n",
       "      <td>1.000</td>\n",
       "    </tr>\n",
       "    <tr>\n",
       "      <th>9</th>\n",
       "      <td>Amsterdam</td>\n",
       "      <td>18,182</td>\n",
       "      <td>30</td>\n",
       "      <td>0</td>\n",
       "      <td>nan</td>\n",
       "      <td>0</td>\n",
       "      <td>12</td>\n",
       "      <td>18</td>\n",
       "      <td>405</td>\n",
       "      <td>99</td>\n",
       "      <td>291</td>\n",
       "      <td>15</td>\n",
       "      <td>0.000</td>\n",
       "    </tr>\n",
       "  </tbody>\n",
       "</table>\n",
       "</div>"
      ],
      "text/plain": [
       "                       City Population Violent\\ncrime  \\\n",
       "0             Adams Village      1,861              0   \n",
       "1  Addison Town and Village      2,577              3   \n",
       "2             Akron Village      2,846              3   \n",
       "3                    Albany     97,956            791   \n",
       "4            Albion Village      6,388             23   \n",
       "5            Alfred Village      4,089              5   \n",
       "6          Allegany Village      1,781              3   \n",
       "7              Amherst Town    118,296            107   \n",
       "8        Amityville Village      9,519              9   \n",
       "9                 Amsterdam     18,182             30   \n",
       "\n",
       "   Murder and\\nnonnegligent\\nmanslaughter  Rape\\n(revised\\ndefinition)1  \\\n",
       "0                                       0                           nan   \n",
       "1                                       0                           nan   \n",
       "2                                       0                           nan   \n",
       "3                                       8                           nan   \n",
       "4                                       0                           nan   \n",
       "5                                       0                           nan   \n",
       "6                                       0                           nan   \n",
       "7                                       1                           nan   \n",
       "8                                       0                           nan   \n",
       "9                                       0                           nan   \n",
       "\n",
       "  Rape\\n(legacy\\ndefinition)2 Robbery Aggravated\\nassault Property\\ncrime  \\\n",
       "0                           0       0                   0              12   \n",
       "1                           0       0                   3              24   \n",
       "2                           0       0                   3              16   \n",
       "3                          30     227                 526           4,090   \n",
       "4                           3       4                  16             223   \n",
       "5                           0       3                   2              46   \n",
       "6                           0       0                   3              10   \n",
       "7                           7      31                  68           2,118   \n",
       "8                           2       4                   3             210   \n",
       "9                           0      12                  18             405   \n",
       "\n",
       "  Burglary Larceny-\\ntheft Motor\\nvehicle\\ntheft  Arson3  \n",
       "0        2              10                     0   0.000  \n",
       "1        3              20                     1   0.000  \n",
       "2        1              15                     0   0.000  \n",
       "3      705           3,243                   142     nan  \n",
       "4       53             165                     5     nan  \n",
       "5       10              36                     0     nan  \n",
       "6        0              10                     0   0.000  \n",
       "7      204           1,882                    32   3.000  \n",
       "8       16             188                     6   1.000  \n",
       "9       99             291                    15   0.000  "
      ]
     },
     "execution_count": 3,
     "metadata": {},
     "output_type": "execute_result"
    }
   ],
   "source": [
    "#Let see what our imported data set looks like. \n",
    "df.head(10)"
   ]
  },
  {
   "cell_type": "code",
   "execution_count": 4,
   "metadata": {},
   "outputs": [
    {
     "name": "stdout",
     "output_type": "stream",
     "text": [
      "<class 'pandas.core.frame.DataFrame'>\n",
      "RangeIndex: 348 entries, 0 to 347\n",
      "Data columns (total 13 columns):\n",
      "City                                    348 non-null object\n",
      "Population                              348 non-null object\n",
      "Violent\n",
      "crime                           348 non-null object\n",
      "Murder and\n",
      "nonnegligent\n",
      "manslaughter    348 non-null int64\n",
      "Rape\n",
      "(revised\n",
      "definition)1              0 non-null float64\n",
      "Rape\n",
      "(legacy\n",
      "definition)2               348 non-null object\n",
      "Robbery                                 348 non-null object\n",
      "Aggravated\n",
      "assault                      348 non-null object\n",
      "Property\n",
      "crime                          348 non-null object\n",
      "Burglary                                348 non-null object\n",
      "Larceny-\n",
      "theft                          348 non-null object\n",
      "Motor\n",
      "vehicle\n",
      "theft                     348 non-null object\n",
      "Arson3                                  187 non-null float64\n",
      "dtypes: float64(2), int64(1), object(10)\n",
      "memory usage: 35.4+ KB\n"
     ]
    }
   ],
   "source": [
    "df.info()"
   ]
  },
  {
   "cell_type": "markdown",
   "metadata": {},
   "source": [
    "Looks like there are some null values in our data set, like the \"Rape (revised definition)1\" column and \"Arson3\" column. We will look at our data set description later and clean up the null values. From df.info, we see that some of the column names are long, and it may be inconvenicent when we use these columns for our model (I am too lazy to type long column names). Therefore, let's replace some of the long column names with shorter ones. "
   ]
  },
  {
   "cell_type": "code",
   "execution_count": 5,
   "metadata": {},
   "outputs": [
    {
     "data": {
      "text/plain": [
       "['City',\n",
       " 'Population',\n",
       " 'Violent\\ncrime',\n",
       " 'Murder and\\nnonnegligent\\nmanslaughter',\n",
       " 'Rape\\n(revised\\ndefinition)1',\n",
       " 'Rape\\n(legacy\\ndefinition)2',\n",
       " 'Robbery',\n",
       " 'Aggravated\\nassault',\n",
       " 'Property\\ncrime',\n",
       " 'Burglary',\n",
       " 'Larceny-\\ntheft',\n",
       " 'Motor\\nvehicle\\ntheft',\n",
       " 'Arson3']"
      ]
     },
     "execution_count": 5,
     "metadata": {},
     "output_type": "execute_result"
    }
   ],
   "source": [
    "#List all the column names. \n",
    "list(df)"
   ]
  },
  {
   "cell_type": "code",
   "execution_count": 6,
   "metadata": {},
   "outputs": [],
   "source": [
    "#Looks like some columns have format issue too. We will fix that as well. \n",
    "df.rename(columns={'Violent\\ncrime':'Violent Crime'},inplace=True)\n",
    "df.rename(columns={'Murder and\\nnonnegligent\\nmanslaughter':'Murder'},inplace=True)\n",
    "df.rename(columns={'Rape\\n(revised\\ndefinition)1':'Rape_1'},inplace=True)\n",
    "df.rename(columns={'Rape\\n(legacy\\ndefinition)2':'Rape_2'},inplace=True)\n",
    "df.rename(columns={'Aggravated\\nassault':'Aggravated Assault'},inplace=True)\n",
    "df.rename(columns={'Property\\ncrime':'Property Crime'},inplace=True)\n",
    "df.rename(columns={'Larceny-\\ntheft':'Larceny Theft'},inplace=True)\n",
    "df.rename(columns={'Motor\\nvehicle\\ntheft':'Motor Vehicle Theft'},inplace=True)"
   ]
  },
  {
   "cell_type": "code",
   "execution_count": 7,
   "metadata": {},
   "outputs": [
    {
     "data": {
      "text/plain": [
       "['City',\n",
       " 'Population',\n",
       " 'Violent Crime',\n",
       " 'Murder',\n",
       " 'Rape_1',\n",
       " 'Rape_2',\n",
       " 'Robbery',\n",
       " 'Aggravated Assault',\n",
       " 'Property Crime',\n",
       " 'Burglary',\n",
       " 'Larceny Theft',\n",
       " 'Motor Vehicle Theft',\n",
       " 'Arson3']"
      ]
     },
     "execution_count": 7,
     "metadata": {},
     "output_type": "execute_result"
    }
   ],
   "source": [
    "#Let's check our column names again. \n",
    "list(df)"
   ]
  },
  {
   "cell_type": "markdown",
   "metadata": {},
   "source": [
    "From our previous df.info, we can see that the whole column of \"Rape (revised definition)1\" is null value. The data set declearation did not provide too much information about why this whole colum is all null. Therefore, we will ignore this column while building our regression model. \n",
    "\n",
    "For the \"Arson3\" column, we have some null value here. In the data declearation, it stated that (Arson is not included in the property crime total in this table; however, if complete arson data were provided, they will appear in the arson column.) and (The FBI does not publish arson data unless it receives data from either the agency or the state for all 12 months of the calendar year.) Therefore, null Arson data means the agency or states did not provide the Arson data to the FBI. However, I would like to see the difference between models with Arson and without Arson data. Therefore, for practice purposes, the null Arson will replace with value 0. \n",
    "\n",
    "Also, by looking at the df.info, we see that there are only 3 columns contains float and int, the rest are objects, which means some of the number are classfied as str here. It will cause troubles for our model. Hence, we will need to fix this as well. "
   ]
  },
  {
   "cell_type": "code",
   "execution_count": 8,
   "metadata": {},
   "outputs": [],
   "source": [
    "df['Population'] = pd.to_numeric(df['Population'].str.replace(',',''))\n",
    "df['Violent Crime'] = pd.to_numeric(df['Violent Crime'].str.replace(',',''))\n",
    "df['Rape_2'] = pd.to_numeric(df['Rape_2'].str.replace(',',''))\n",
    "df['Robbery'] = pd.to_numeric(df['Robbery'].str.replace(',',''))\n",
    "df['Aggravated Assault'] = pd.to_numeric(df['Aggravated Assault'].str.replace(',',''))\n",
    "df['Property Crime'] = pd.to_numeric(df['Property Crime'].str.replace(',',''))\n",
    "df['Burglary'] = pd.to_numeric(df['Burglary'].str.replace(',',''))\n",
    "df['Larceny Theft'] = pd.to_numeric(df['Larceny Theft'].str.replace(',',''))\n",
    "df['Motor Vehicle Theft'] = pd.to_numeric(df['Motor Vehicle Theft'].str.replace(',',''))\n",
    "df['Arson3_fillna'] = df['Arson3'].fillna(0)"
   ]
  },
  {
   "cell_type": "code",
   "execution_count": 9,
   "metadata": {},
   "outputs": [
    {
     "name": "stdout",
     "output_type": "stream",
     "text": [
      "                       City  Population  Violent Crime  Murder  Rape_1  \\\n",
      "0             Adams Village        1861              0       0     nan   \n",
      "1  Addison Town and Village        2577              3       0     nan   \n",
      "2             Akron Village        2846              3       0     nan   \n",
      "3                    Albany       97956            791       8     nan   \n",
      "4            Albion Village        6388             23       0     nan   \n",
      "5            Alfred Village        4089              5       0     nan   \n",
      "6          Allegany Village        1781              3       0     nan   \n",
      "7              Amherst Town      118296            107       1     nan   \n",
      "8        Amityville Village        9519              9       0     nan   \n",
      "9                 Amsterdam       18182             30       0     nan   \n",
      "\n",
      "   Rape_2  Robbery  Aggravated Assault  Property Crime  Burglary  \\\n",
      "0       0        0                   0              12         2   \n",
      "1       0        0                   3              24         3   \n",
      "2       0        0                   3              16         1   \n",
      "3      30      227                 526            4090       705   \n",
      "4       3        4                  16             223        53   \n",
      "5       0        3                   2              46        10   \n",
      "6       0        0                   3              10         0   \n",
      "7       7       31                  68            2118       204   \n",
      "8       2        4                   3             210        16   \n",
      "9       0       12                  18             405        99   \n",
      "\n",
      "   Larceny Theft  Motor Vehicle Theft  Arson3  Arson3_fillna  \n",
      "0             10                    0   0.000          0.000  \n",
      "1             20                    1   0.000          0.000  \n",
      "2             15                    0   0.000          0.000  \n",
      "3           3243                  142     nan          0.000  \n",
      "4            165                    5     nan          0.000  \n",
      "5             36                    0     nan          0.000  \n",
      "6             10                    0   0.000          0.000  \n",
      "7           1882                   32   3.000          3.000  \n",
      "8            188                    6   1.000          1.000  \n",
      "9            291                   15   0.000          0.000  \n",
      "<class 'pandas.core.frame.DataFrame'>\n",
      "RangeIndex: 348 entries, 0 to 347\n",
      "Data columns (total 14 columns):\n",
      "City                   348 non-null object\n",
      "Population             348 non-null int64\n",
      "Violent Crime          348 non-null int64\n",
      "Murder                 348 non-null int64\n",
      "Rape_1                 0 non-null float64\n",
      "Rape_2                 348 non-null int64\n",
      "Robbery                348 non-null int64\n",
      "Aggravated Assault     348 non-null int64\n",
      "Property Crime         348 non-null int64\n",
      "Burglary               348 non-null int64\n",
      "Larceny Theft          348 non-null int64\n",
      "Motor Vehicle Theft    348 non-null int64\n",
      "Arson3                 187 non-null float64\n",
      "Arson3_fillna          348 non-null float64\n",
      "dtypes: float64(3), int64(10), object(1)\n",
      "memory usage: 38.1+ KB\n",
      "None\n"
     ]
    }
   ],
   "source": [
    "print(df.head(10))\n",
    "print(df.info())"
   ]
  },
  {
   "cell_type": "markdown",
   "metadata": {},
   "source": [
    "### Feature Selection\n",
    "\n",
    "According to data declearation, burglary, larceny-theft, and motor vehicle theft considered as property crime. Therefore, these three features will be included in our regression model. Also, population will have impact of property crime number as well, so population will be included in our regression model. \n",
    "\n",
    "Next, we will look at the linear relationship between our features and our outcome, which we will look at the linear relationship between burglary, larceny theft, motor vehicle theft, and population compare against our outcome, which is property crime. "
   ]
  },
  {
   "cell_type": "code",
   "execution_count": 10,
   "metadata": {},
   "outputs": [
    {
     "data": {
      "image/png": "[encoded data removed]",
      "text/plain": [
       "<Figure size 1440x1440 with 4 Axes>"
      ]
     },
     "metadata": {
      "needs_background": "light"
     },
     "output_type": "display_data"
    }
   ],
   "source": [
    "fig = plt.figure(figsize=(20, 20))\n",
    "G = gridspec.GridSpec(2,2)\n",
    "\n",
    "axes_1 = plt.subplot(G[0,0])\n",
    "axes_1.scatter(df['Population'], df['Property Crime'])\n",
    "axes_1.set_title('Population')\n",
    "\n",
    "axes_2 = plt.subplot(G[0,1])\n",
    "axes_2.scatter(df['Burglary'], df['Property Crime'])\n",
    "axes_2.set_title('Burglary')\n",
    "\n",
    "axes_3 = plt.subplot(G[1,0])\n",
    "axes_3.scatter(df['Larceny Theft'], df['Property Crime'])\n",
    "axes_3.set_title('Larceny Theft')\n",
    "\n",
    "axes_4 = plt.subplot(G[1,1])\n",
    "axes_4.scatter(df['Motor Vehicle Theft'], df['Property Crime'])\n",
    "axes_4.set_title('Motor Vehicle Theft')\n",
    "\n",
    "plt.show()"
   ]
  },
  {
   "cell_type": "markdown",
   "metadata": {},
   "source": [
    "According to our above plots, there is a outliner in our data, and we want to delete this outliner so that we can see our plots better. "
   ]
  },
  {
   "cell_type": "code",
   "execution_count": 14,
   "metadata": {},
   "outputs": [
    {
     "data": {
      "text/plain": [
       "216"
      ]
     },
     "execution_count": 14,
     "metadata": {},
     "output_type": "execute_result"
    }
   ],
   "source": [
    "#Find the index of the outliner. \n",
    "df['Property Crime'][df['Property Crime'] == (df['Property Crime'].max())].index[0]"
   ]
  },
  {
   "cell_type": "code",
   "execution_count": 17,
   "metadata": {},
   "outputs": [],
   "source": [
    "test_df = df.drop(df.index[216])"
   ]
  },
  {
   "cell_type": "code",
   "execution_count": 18,
   "metadata": {},
   "outputs": [
    {
     "data": {
      "image/png": "[encoded data removed]",
      "text/plain": [
       "<Figure size 1440x1440 with 4 Axes>"
      ]
     },
     "metadata": {
      "needs_background": "light"
     },
     "output_type": "display_data"
    }
   ],
   "source": [
    "fig = plt.figure(figsize=(20, 20))\n",
    "G = gridspec.GridSpec(2,2)\n",
    "\n",
    "axes_1 = plt.subplot(G[0,0])\n",
    "axes_1.scatter(test_df['Population'], test_df['Property Crime'])\n",
    "axes_1.set_title('Population')\n",
    "\n",
    "axes_2 = plt.subplot(G[0,1])\n",
    "axes_2.scatter(test_df['Burglary'], test_df['Property Crime'])\n",
    "axes_2.set_title('Burglary')\n",
    "\n",
    "axes_3 = plt.subplot(G[1,0])\n",
    "axes_3.scatter(test_df['Larceny Theft'], test_df['Property Crime'])\n",
    "axes_3.set_title('Larceny Theft')\n",
    "\n",
    "axes_4 = plt.subplot(G[1,1])\n",
    "axes_4.scatter(test_df['Motor Vehicle Theft'], test_df['Property Crime'])\n",
    "axes_4.set_title('Motor Vehicle Theft')\n",
    "\n",
    "plt.show()"
   ]
  },
  {
   "cell_type": "markdown",
   "metadata": {},
   "source": [
    "According to above adjusted plots, we see that our features are linear to our outcome. Therefore, we will not do any transformation here. "
   ]
  },
  {
   "cell_type": "markdown",
   "metadata": {},
   "source": [
    "Next, we will look at the correlation between our features. For regression models, we want the correlation between our features to be low or nonexistent. High correlation between features is not a problem for prediction. However, it will cause problem when we are evaluating which feature have more prediction power to our outcome. "
   ]
  },
  {
   "cell_type": "code",
   "execution_count": 20,
   "metadata": {},
   "outputs": [
    {
     "data": {
      "text/plain": [
       "<matplotlib.axes._subplots.AxesSubplot at 0x1f85ba8ba20>"
      ]
     },
     "execution_count": 20,
     "metadata": {},
     "output_type": "execute_result"
    },
    {
     "data": {
      "image/png": "[encoded data removed]",
      "text/plain": [
       "<Figure size 1080x576 with 2 Axes>"
      ]
     },
     "metadata": {
      "needs_background": "light"
     },
     "output_type": "display_data"
    }
   ],
   "source": [
    "df_features = df[['Population','Burglary','Larceny Theft','Motor Vehicle Theft']]\n",
    "\n",
    "plt.figure(figsize=(15,8))\n",
    "sns.heatmap(df_features.corr(),cmap='magma', linecolor='white', linewidths=1, annot=True)"
   ]
  },
  {
   "cell_type": "markdown",
   "metadata": {},
   "source": [
    "According to the correlation heatmap, our four features have very high correlation. As mentioned previously, high correlated features does not cause problem for prediction. Therefore, we will keep our features for now. "
   ]
  },
  {
   "cell_type": "markdown",
   "metadata": {},
   "source": [
    "### Build the Model\n",
    "\n",
    "We have clean our data and look at our features. Next, we will build the regression model. "
   ]
  },
  {
   "cell_type": "code",
   "execution_count": 23,
   "metadata": {},
   "outputs": [
    {
     "name": "stdout",
     "output_type": "stream",
     "text": [
      "\n",
      "Coefficients: \n",
      " [2.60374292e-18 1.00000000e+00 1.00000000e+00 1.00000000e+00]\n",
      "\n",
      "Intercept: \n",
      " 0.0\n",
      "\n",
      "R-squared:\n",
      "1.0\n"
     ]
    }
   ],
   "source": [
    "regr = linear_model.LinearRegression()\n",
    "Y = df['Property Crime']\n",
    "X = df[['Population','Burglary','Larceny Theft','Motor Vehicle Theft']]\n",
    "regr.fit(X, Y)\n",
    "\n",
    "# Inspect the results.\n",
    "print('\\nCoefficients: \\n', regr.coef_)\n",
    "print('\\nIntercept: \\n', regr.intercept_)\n",
    "print('\\nR-squared:')\n",
    "print(regr.score(X, Y))"
   ]
  },
  {
   "cell_type": "code",
   "execution_count": null,
   "metadata": {},
   "outputs": [],
   "source": []
  }
 ],
 "metadata": {
  "kernelspec": {
   "display_name": "Python 3",
   "language": "python",
   "name": "python3"
  },
  "language_info": {
   "codemirror_mode": {
    "name": "ipython",
    "version": 3
   },
   "file_extension": ".py",
   "mimetype": "text/x-python",
   "name": "python",
   "nbconvert_exporter": "python",
   "pygments_lexer": "ipython3",
   "version": "3.7.0"
  }
 },
 "nbformat": 4,
 "nbformat_minor": 2
}
