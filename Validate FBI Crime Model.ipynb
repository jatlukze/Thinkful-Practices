{
 "cells": [
  {
   "cell_type": "markdown",
   "metadata": {},
   "source": [
    "This is a Thinkful assignment. The goal for this assignment is to validate the FBI Property Crime model built previously. There will be several sections for this assignment. The first step is to create holdout groups from the original data set, and then check the R squared value and F-test score. The second section is to validate the FBI Property Crime model using crime data set from other states, or crime data set from different years but same state. The third section is to revised our model based on the previous two sections, and compare the old and new model. "
   ]
  },
  {
   "cell_type": "code",
   "execution_count": 1,
   "metadata": {},
   "outputs": [],
   "source": [
    "import math\n",
    "import warnings\n",
    "\n",
    "from IPython.display import display\n",
    "from matplotlib import pyplot as plt\n",
    "import matplotlib.gridspec as gridspec\n",
    "import numpy as np\n",
    "import pandas as pd\n",
    "import seaborn as sns\n",
    "from sklearn import linear_model\n",
    "import statsmodels.formula.api as smf\n",
    "\n",
    "# Display preferences.\n",
    "%matplotlib inline\n",
    "pd.options.display.float_format = '{:.3f}'.format\n",
    "\n",
    "import warnings\n",
    "warnings.filterwarnings(action=\"ignore\", module=\"scipy\", message=\"^internal gelsd\")"
   ]
  },
  {
   "cell_type": "markdown",
   "metadata": {},
   "source": [
    "## Code from Previous FBI Property Crime Model"
   ]
  },
  {
   "cell_type": "code",
   "execution_count": 2,
   "metadata": {},
   "outputs": [
    {
     "name": "stderr",
     "output_type": "stream",
     "text": [
      "C:\\dev_software\\Anaconda3\\lib\\site-packages\\ipykernel_launcher.py:3: ParserWarning: Falling back to the 'python' engine because the 'c' engine does not support skipfooter; you can avoid this warning by specifying engine='python'.\n",
      "  This is separate from the ipykernel package so we can avoid doing imports until\n"
     ]
    }
   ],
   "source": [
    "#Our data set have some headers and footers, and we need to skip those headers and footers, and just import our data. \n",
    "df = pd.read_csv('https://raw.githubusercontent.com/Thinkful-Ed/data-201-resources/master/New_York_offenses/NEW_YORK-Offenses_Known_to_Law_Enforcement_by_City_2013%20-%2013tbl8ny.csv',\n",
    "                 skiprows=4,skipfooter=3,header=0,na_values='nan')"
   ]
  },
  {
   "cell_type": "code",
   "execution_count": 3,
   "metadata": {},
   "outputs": [],
   "source": [
    "#Fix column name format issue and change column name. \n",
    "df.rename(columns={'Violent\\ncrime':'ViolentCrime'},inplace=True)\n",
    "df.rename(columns={'Murder and\\nnonnegligent\\nmanslaughter':'Murder'},inplace=True)\n",
    "df.rename(columns={'Rape\\n(revised\\ndefinition)1':'Rape_1'},inplace=True)\n",
    "df.rename(columns={'Rape\\n(legacy\\ndefinition)2':'Rape_2'},inplace=True)\n",
    "df.rename(columns={'Aggravated\\nassault':'AggravatedAssault'},inplace=True)\n",
    "df.rename(columns={'Property\\ncrime':'PropertyCrime'},inplace=True)\n",
    "df.rename(columns={'Larceny-\\ntheft':'LarcenyTheft'},inplace=True)\n",
    "df.rename(columns={'Motor\\nvehicle\\ntheft':'MotorVehicleTheft'},inplace=True)"
   ]
  },
  {
   "cell_type": "code",
   "execution_count": 4,
   "metadata": {},
   "outputs": [],
   "source": [
    "#Fix data format, and fill na\n",
    "df['Population'] = pd.to_numeric(df['Population'].str.replace(',',''))\n",
    "df['ViolentCrime'] = pd.to_numeric(df['ViolentCrime'].str.replace(',',''))\n",
    "df['Rape_2'] = pd.to_numeric(df['Rape_2'].str.replace(',',''))\n",
    "df['Robbery'] = pd.to_numeric(df['Robbery'].str.replace(',',''))\n",
    "df['AggravatedAssault'] = pd.to_numeric(df['AggravatedAssault'].str.replace(',',''))\n",
    "df['PropertyCrime'] = pd.to_numeric(df['PropertyCrime'].str.replace(',',''))\n",
    "df['Burglary'] = pd.to_numeric(df['Burglary'].str.replace(',',''))\n",
    "df['LarcenyTheft'] = pd.to_numeric(df['LarcenyTheft'].str.replace(',',''))\n",
    "df['MotorVehicleTheft'] = pd.to_numeric(df['MotorVehicleTheft'].str.replace(',',''))\n",
    "df['Arson3_fillna'] = df['Arson3'].fillna(0)"
   ]
  },
  {
   "cell_type": "code",
   "execution_count": 5,
   "metadata": {},
   "outputs": [
    {
     "name": "stdout",
     "output_type": "stream",
     "text": [
      "\n",
      "Coefficients: \n",
      " [ 17.15909077  10.10484153  39.05466462 -16.88634685 -15.11406854]\n",
      "\n",
      "Intercept: \n",
      " 152.35194272557874\n",
      "\n",
      "R-squared:\n",
      "0.9984225484405618\n"
     ]
    }
   ],
   "source": [
    "#Fit our model\n",
    "regr = linear_model.LinearRegression()\n",
    "Y = df['PropertyCrime']\n",
    "X = df[['ViolentCrime','Murder','Rape_2','Robbery','AggravatedAssault']]\n",
    "regr.fit(X, Y)\n",
    "\n",
    "# Inspect the results.\n",
    "print('\\nCoefficients: \\n', regr.coef_)\n",
    "print('\\nIntercept: \\n', regr.intercept_)\n",
    "print('\\nR-squared:')\n",
    "print(regr.score(X, Y))"
   ]
  },
  {
   "cell_type": "markdown",
   "metadata": {},
   "source": [
    "### Section 1.1 - Holdout Group and Cross Validation"
   ]
  },
  {
   "cell_type": "code",
   "execution_count": 6,
   "metadata": {},
   "outputs": [
    {
     "name": "stdout",
     "output_type": "stream",
     "text": [
      "With 30% Holdout the R-Squared Value is: 0.9180386702443953\n",
      "Testing on Sample the R-Squared Value is: 0.9984225484405618\n"
     ]
    }
   ],
   "source": [
    "#Test with 30% holdout group\n",
    "from sklearn.model_selection import train_test_split\n",
    "\n",
    "X_train, X_test, Y_train, Y_test = train_test_split(X, Y, test_size=0.3, random_state=30)\n",
    "print('With 30% Holdout the R-Squared Value is: ' + str(regr.fit(X_train, Y_train).score(X_test, Y_test)))\n",
    "print('Testing on Sample the R-Squared Value is: ' + str(regr.fit(X, Y).score(X, Y)))"
   ]
  },
  {
   "cell_type": "code",
   "execution_count": 7,
   "metadata": {},
   "outputs": [
    {
     "data": {
      "text/plain": [
       "array([0.7973143 , 0.92878715, 0.30792562, 0.4008504 , 0.55112141,\n",
       "       0.52865333, 0.99981743, 0.90115369, 0.97698505, 0.81141256])"
      ]
     },
     "execution_count": 7,
     "metadata": {},
     "output_type": "execute_result"
    }
   ],
   "source": [
    "#Cross Validation\n",
    "from sklearn.model_selection import cross_val_score\n",
    "cross_val_score(regr, X, Y, cv=10)"
   ]
  },
  {
   "cell_type": "markdown",
   "metadata": {},
   "source": [
    "According to above holdout group and cross validation, we see that our model does not return a consistent R squared value. It may due to our model is overfitting the data. "
   ]
  },
  {
   "cell_type": "markdown",
   "metadata": {},
   "source": [
    "### Section 1.2 - F-test and P-value for each feature. \n",
    "We have looked at our holdout group test and cross validation, and we see that our model's R-squared value varies a lot in the cross validation test. We may need to make some changes in our model, and find out which feature could be\n",
    "deleted using the F-test and P-value for each features. "
   ]
  },
  {
   "cell_type": "code",
   "execution_count": 8,
   "metadata": {},
   "outputs": [],
   "source": [
    "linear_formula = 'PropertyCrime ~ ViolentCrime + Murder + Rape_2 + Robbery + AggravatedAssault'\n",
    "lm = smf.ols(formula=linear_formula, data=df).fit()"
   ]
  },
  {
   "cell_type": "code",
   "execution_count": 9,
   "metadata": {},
   "outputs": [
    {
     "name": "stdout",
     "output_type": "stream",
     "text": [
      "\n",
      "Coefficients:\n",
      "Intercept           152.352\n",
      "ViolentCrime         17.159\n",
      "Murder               10.105\n",
      "Rape_2               39.055\n",
      "Robbery             -16.886\n",
      "AggravatedAssault   -15.114\n",
      "dtype: float64\n",
      "\n",
      "P-Values:\n",
      "Intercept           0.000\n",
      "ViolentCrime        0.000\n",
      "Murder              0.535\n",
      "Rape_2              0.000\n",
      "Robbery             0.000\n",
      "AggravatedAssault   0.000\n",
      "dtype: float64\n",
      "\n",
      "R-squared:\n",
      "0.9984225484405618\n"
     ]
    }
   ],
   "source": [
    "print('\\nCoefficients:')\n",
    "print(lm.params)\n",
    "print('\\nP-Values:')\n",
    "print(lm.pvalues)\n",
    "print('\\nR-squared:')\n",
    "print(lm.rsquared)"
   ]
  },
  {
   "cell_type": "markdown",
   "metadata": {},
   "source": [
    "According to the P-value for each features, we see that the P-value for Murder is greater that 0.05, which means dropping it would not effect our R-squared value that much. Therefore, we could consider dropping this feature in our new model. "
   ]
  },
  {
   "cell_type": "markdown",
   "metadata": {},
   "source": [
    "### Section 2 - Validate the same model in other data set"
   ]
  },
  {
   "cell_type": "code",
   "execution_count": 10,
   "metadata": {},
   "outputs": [
    {
     "name": "stderr",
     "output_type": "stream",
     "text": [
      "C:\\dev_software\\Anaconda3\\lib\\site-packages\\ipykernel_launcher.py:1: ParserWarning: Falling back to the 'python' engine because the 'c' engine does not support skipfooter; you can avoid this warning by specifying engine='python'.\n",
      "  \"\"\"Entry point for launching an IPython kernel.\n"
     ]
    }
   ],
   "source": [
    "test_df = pd.read_csv('FBI Crime Record NYS 2014.csv',skiprows=4,skipfooter=7,header=0,na_values='nan')"
   ]
  },
  {
   "cell_type": "code",
   "execution_count": 11,
   "metadata": {},
   "outputs": [],
   "source": [
    "#Fix column name format issue and change column name. \n",
    "test_df.rename(columns={'Violent\\ncrime':'ViolentCrime'},inplace=True)\n",
    "test_df.rename(columns={'Murder and\\nnonnegligent\\nmanslaughter':'Murder'},inplace=True)\n",
    "test_df.rename(columns={'Rape\\n(revised\\ndefinition)1':'Rape_1'},inplace=True)\n",
    "test_df.rename(columns={'Rape\\n(legacy\\ndefinition)2':'Rape_2'},inplace=True)\n",
    "test_df.rename(columns={'Aggravated\\nassault':'AggravatedAssault'},inplace=True)\n",
    "test_df.rename(columns={'Property\\ncrime':'PropertyCrime'},inplace=True)\n",
    "test_df.rename(columns={'Larceny-\\ntheft':'LarcenyTheft'},inplace=True)\n",
    "test_df.rename(columns={'Motor\\nvehicle\\ntheft':'MotorVehicleTheft'},inplace=True)"
   ]
  },
  {
   "cell_type": "code",
   "execution_count": 12,
   "metadata": {},
   "outputs": [],
   "source": [
    "#Fix data format, and fill na\n",
    "test_df['Population'] = pd.to_numeric(test_df['Population'].str.replace(',',''))\n",
    "test_df['ViolentCrime'] = pd.to_numeric(test_df['ViolentCrime'].str.replace(',','').str.replace(',',''))\n",
    "test_df['Rape_2'] = pd.to_numeric(test_df['Rape_2'])\n",
    "test_df['Robbery'] = pd.to_numeric(test_df['Robbery'].str.replace(',','').str.replace(',',''))\n",
    "test_df['AggravatedAssault'] = pd.to_numeric(test_df['AggravatedAssault'].str.replace(',',''))\n",
    "test_df['PropertyCrime'] = pd.to_numeric(test_df['PropertyCrime'].str.replace(',',''))\n",
    "test_df['Burglary'] = pd.to_numeric(test_df['Burglary'].str.replace(',',''))\n",
    "test_df['LarcenyTheft'] = pd.to_numeric(test_df['LarcenyTheft'].str.replace(',',''))\n",
    "test_df['MotorVehicleTheft'] = pd.to_numeric(test_df['MotorVehicleTheft'].str.replace(',',''))\n",
    "test_df['Arson3_fillna'] = test_df['Arson3'].fillna(0)\n",
    "test_df['Rape_2'] = test_df['Rape_2'].fillna(0)\n",
    "test_df['PropertyCrime'] = test_df['PropertyCrime'].fillna(0)"
   ]
  },
  {
   "cell_type": "code",
   "execution_count": 13,
   "metadata": {},
   "outputs": [
    {
     "name": "stdout",
     "output_type": "stream",
     "text": [
      "<class 'pandas.core.frame.DataFrame'>\n",
      "RangeIndex: 369 entries, 0 to 368\n",
      "Data columns (total 15 columns):\n",
      "City                 369 non-null object\n",
      "Population           369 non-null int64\n",
      "ViolentCrime         369 non-null int64\n",
      "Murder               369 non-null int64\n",
      "Rape_1               227 non-null object\n",
      "Rape_2               369 non-null float64\n",
      "Robbery              369 non-null int64\n",
      "AggravatedAssault    369 non-null int64\n",
      "PropertyCrime        369 non-null float64\n",
      "Burglary             369 non-null int64\n",
      "LarcenyTheft         368 non-null float64\n",
      "MotorVehicleTheft    369 non-null int64\n",
      "Arson3               365 non-null float64\n",
      "Unnamed: 13          0 non-null float64\n",
      "Arson3_fillna        369 non-null float64\n",
      "dtypes: float64(6), int64(7), object(2)\n",
      "memory usage: 43.3+ KB\n"
     ]
    }
   ],
   "source": [
    "test_df.info()"
   ]
  },
  {
   "cell_type": "code",
   "execution_count": 14,
   "metadata": {},
   "outputs": [],
   "source": [
    "Y_2014 = test_df['PropertyCrime']\n",
    "X_2014 = test_df[['ViolentCrime','Murder','Rape_2','Robbery','AggravatedAssault']]"
   ]
  },
  {
   "cell_type": "code",
   "execution_count": 15,
   "metadata": {},
   "outputs": [
    {
     "name": "stdout",
     "output_type": "stream",
     "text": [
      "Test with FBI Crime Record for NYS at 2014 the R-Squared Value is: 0.9749877917315228\n"
     ]
    }
   ],
   "source": [
    "print('Test with FBI Crime Record for NYS at 2014 the R-Squared Value is: ' + str(regr.fit(X, Y).score(X_2014, Y_2014)))"
   ]
  },
  {
   "cell_type": "raw",
   "metadata": {},
   "source": [
    "According to the R-squared value, we see that our previous model is working quite well in different data set. "
   ]
  },
  {
   "cell_type": "markdown",
   "metadata": {},
   "source": [
    "### Section 3 - Revised model\n",
    "From our previous two sections, we know that our model did not perform well on the cross validation part. For our F-test and P-value of each features, we find out that our Murder feature have a relatively high P-value compare to others. Therefore, our revised model will drop the Murder feature. "
   ]
  },
  {
   "cell_type": "code",
   "execution_count": 16,
   "metadata": {},
   "outputs": [
    {
     "name": "stdout",
     "output_type": "stream",
     "text": [
      "\n",
      "Coefficients: \n",
      " [ 27.2639323   28.94982309 -26.99118839 -25.21891007]\n",
      "\n",
      "Intercept: \n",
      " 152.351942725581\n",
      "\n",
      "R-squared:\n",
      "0.9984225484405618\n"
     ]
    }
   ],
   "source": [
    "regr_revised = linear_model.LinearRegression()\n",
    "Y = df['PropertyCrime']\n",
    "X_revised = df[['ViolentCrime','Rape_2','Robbery','AggravatedAssault']]\n",
    "regr_revised.fit(X_revised, Y)\n",
    "\n",
    "# Inspect the results.\n",
    "print('\\nCoefficients: \\n', regr_revised.coef_)\n",
    "print('\\nIntercept: \\n', regr_revised.intercept_)\n",
    "print('\\nR-squared:')\n",
    "print(regr_revised.score(X_revised, Y))"
   ]
  },
  {
   "cell_type": "code",
   "execution_count": 17,
   "metadata": {},
   "outputs": [
    {
     "name": "stdout",
     "output_type": "stream",
     "text": [
      "With 30% Holdout the R-Squared Value for Revised Model is: 0.9180386702443957\n",
      "Testing on Sample the R-Squared Value for the Revised Model is: 0.9984225484405618\n"
     ]
    }
   ],
   "source": [
    "X_revised_train, X_revised_test, Y_train, Y_test = train_test_split(X_revised, Y, test_size=0.3, random_state=30)\n",
    "print('With 30% Holdout the R-Squared Value for Revised Model is: ' + str(regr_revised.fit(X_revised_train, Y_train).score(X_revised_test, Y_test)))\n",
    "print('Testing on Sample the R-Squared Value for the Revised Model is: ' + str(regr_revised.fit(X_revised, Y).score(X_revised, Y)))"
   ]
  },
  {
   "cell_type": "code",
   "execution_count": 18,
   "metadata": {},
   "outputs": [
    {
     "data": {
      "text/plain": [
       "array([0.7973143 , 0.92878715, 0.30792562, 0.4008504 , 0.55112141,\n",
       "       0.52865333, 0.99981743, 0.90115369, 0.97698505, 0.81141256])"
      ]
     },
     "execution_count": 18,
     "metadata": {},
     "output_type": "execute_result"
    }
   ],
   "source": [
    "cross_val_score(regr_revised, X_revised, Y, cv=10)"
   ]
  },
  {
   "cell_type": "markdown",
   "metadata": {},
   "source": [
    "According to the statics of our revised model, we see that the R-squared value did not change much in the revised model, which is same as our conslusion previously. However, the cross validation test still not performing well. "
   ]
  }
 ],
 "metadata": {
  "kernelspec": {
   "display_name": "Python 3",
   "language": "python",
   "name": "python3"
  },
  "language_info": {
   "codemirror_mode": {
    "name": "ipython",
    "version": 3
   },
   "file_extension": ".py",
   "mimetype": "text/x-python",
   "name": "python",
   "nbconvert_exporter": "python",
   "pygments_lexer": "ipython3",
   "version": "3.7.0"
  }
 },
 "nbformat": 4,
 "nbformat_minor": 2
}
