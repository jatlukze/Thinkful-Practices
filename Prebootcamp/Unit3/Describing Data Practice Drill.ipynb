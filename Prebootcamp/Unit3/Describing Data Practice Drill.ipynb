{
 "cells": [
  {
   "cell_type": "markdown",
   "metadata": {},
   "source": [
    "This is a practice drill for Thinkful Data Science pre-bootcamp - Describing Data. There are total of 5 questions for this practice drill. Each question will be listed below. "
   ]
  },
  {
   "cell_type": "markdown",
   "metadata": {},
   "source": [
    "Question #1: Greg was 14, Marcia was 12, Peter was 11, Jan was 10, Bobby was 8, and Cindy was 6 when they started playing the Brady kids on The Brady Bunch. Cousin Oliver was 8 years old when he joined the show. What are the mean, median, and mode of the kids' ages when they first appeared on the show? What are the variance, standard deviation, and standard error?"
   ]
  },
  {
   "cell_type": "markdown",
   "metadata": {},
   "source": [
    "So from above describtion, we can get below data in a short summary. \n",
    "\n",
    "Name    Age\n",
    "Greg     14\n",
    "Marcia   12\n",
    "Peter    11\n",
    "Jan      10\n",
    "Bobby     8\n",
    "Cindy     6\n",
    "Oliver    8"
   ]
  },
  {
   "cell_type": "code",
   "execution_count": 40,
   "metadata": {},
   "outputs": [
    {
     "name": "stdout",
     "output_type": "stream",
     "text": [
      "mean:  9.857142857142858\n",
      "median:  10.0\n",
      "Mode:  8\n",
      "variance:  6.408163265306122\n",
      "std. deviation : 2.734262327610589\n",
      "standard error : 1.0334540197243192\n"
     ]
    },
    {
     "data": {
      "text/plain": [
       "count     7.000000\n",
       "mean      9.857143\n",
       "std       2.734262\n",
       "min       6.000000\n",
       "25%       8.000000\n",
       "50%      10.000000\n",
       "75%      11.500000\n",
       "max      14.000000\n",
       "Name: Age, dtype: float64"
      ]
     },
     "execution_count": 40,
     "metadata": {},
     "output_type": "execute_result"
    }
   ],
   "source": [
    "import pandas as pd\n",
    "import numpy as np\n",
    "import statistics\n",
    "\n",
    "# Make a blank data frame\n",
    "df = pd.DataFrame()\n",
    "\n",
    "# Populate it with data Name and Age\n",
    "df['Name'] = ['Greg', 'Marcia', 'Peter', 'Jan', 'Bobby', 'Cindy', 'Oliver']\n",
    "df['Age'] = [14, 12, 11, 10, 8, 6, 8]\n",
    "\n",
    "# Now get the mean, median, mode, variance, standard deviation, and standard error\n",
    "print(\"mean: \", np.mean(df['Age']))\n",
    "print(\"median: \", np.median(df['Age']))\n",
    "print(\"Mode: \", statistics.mode(df['Age']))\n",
    "print(\"variance: \", np.var(df['Age']))\n",
    "print(\"std. deviation :\", np.std(df['Age'], ddof=1))\n",
    "print(\"standard error :\", np.std(df['Age'], ddof=1)/np.sqrt(len(df['Age'])))\n",
    "\n",
    "# We can also use the describe() statement to get some info as well, but the describe() statement does\n",
    "# not have median, mode, variance, and standard errors. \n",
    "df['Age'].describe()\n"
   ]
  },
  {
   "cell_type": "markdown",
   "metadata": {},
   "source": [
    "Question #2: Using these estimates, if you had to choose only one estimate of central tendency and one estimate of variance to describe the data, which would you pick and why?"
   ]
  },
  {
   "cell_type": "code",
   "execution_count": 41,
   "metadata": {},
   "outputs": [],
   "source": [
    "# For central tendency, I would choose the mean. Mean is the average of the data set, so it provides\n",
    "# me the average age of these actors. \n",
    "\n",
    "# For variance, I would choose the standard deviation. STD normally tells us the variance of the data."
   ]
  },
  {
   "cell_type": "markdown",
   "metadata": {},
   "source": [
    "Question #3: Next, Cindy has a birthday. Update your estimates- what changed, and what didn't?"
   ]
  },
  {
   "cell_type": "code",
   "execution_count": 42,
   "metadata": {},
   "outputs": [],
   "source": [
    "# Most likely it won't change anything. "
   ]
  },
  {
   "cell_type": "markdown",
   "metadata": {},
   "source": [
    "Question #4: Nobody likes Cousin Oliver. Maybe the network should have used an even younger actor. Replace Cousin Oliver with 1-year-old Jessica, then recalculate again. Does this change your choice of central tendency or variance estimation methods?"
   ]
  },
  {
   "cell_type": "code",
   "execution_count": 43,
   "metadata": {},
   "outputs": [
    {
     "name": "stdout",
     "output_type": "stream",
     "text": [
      "     Name  Age\n",
      "0    Greg   14\n",
      "1  Marcia   12\n",
      "2   Peter   11\n",
      "3     Jan   10\n",
      "4   Bobby    8\n",
      "5   Cindy    6\n",
      "6  Oliver    8\n"
     ]
    }
   ],
   "source": [
    "# First, let's find out what row Oliver is at and then we remember that row. \n",
    "print(df)"
   ]
  },
  {
   "cell_type": "code",
   "execution_count": 44,
   "metadata": {},
   "outputs": [
    {
     "name": "stdout",
     "output_type": "stream",
     "text": [
      "      Name  Age\n",
      "0     Greg   14\n",
      "1   Marcia   12\n",
      "2    Peter   11\n",
      "3      Jan   10\n",
      "4    Bobby    8\n",
      "5    Cindy    6\n",
      "6  Jessica    1\n"
     ]
    }
   ],
   "source": [
    "# We see that Oliver is row 6, so we drop row 6 first, and the add Jessica, which is 1 year old. \n",
    "df.drop(df.index[6], inplace=True)\n",
    "\n",
    "# Then we add Jessica to the dataframe\n",
    "add_jessica = pd.DataFrame()\n",
    "add_jessica['Name'] = ['Jessica']\n",
    "add_jessica['Age'] = [1]\n",
    "new_df = pd.concat([df, add_jessica], ignore_index=True)\n",
    "\n",
    "print(new_df)"
   ]
  },
  {
   "cell_type": "code",
   "execution_count": 45,
   "metadata": {},
   "outputs": [
    {
     "name": "stdout",
     "output_type": "stream",
     "text": [
      "mean:  8.857142857142858\n",
      "median:  10.0\n",
      "variance:  16.122448979591837\n",
      "std. deviation : 4.3369947901195145\n",
      "standard error : 1.6392299502912862\n",
      "There is no Mode\n"
     ]
    }
   ],
   "source": [
    "# Now let's get all the mean, median, mode, variance, standard deviation, and standard errors again. \n",
    "print(\"mean: \", np.mean(new_df['Age']))\n",
    "print(\"median: \", np.median(new_df['Age']))\n",
    "#print(\"Mode: \", statistics.mode(new_df['Age']))\n",
    "print(\"variance: \", np.var(new_df['Age']))\n",
    "print(\"std. deviation :\", np.std(new_df['Age'], ddof=1))\n",
    "print(\"standard error :\", np.std(new_df['Age'], ddof=1)/np.sqrt(len(new_df['Age'])))\n",
    "\n",
    "# I comment out the mode here becauser there is no mode for this new dataset. \n",
    "print(\"There is no Mode\")"
   ]
  },
  {
   "cell_type": "code",
   "execution_count": 46,
   "metadata": {},
   "outputs": [],
   "source": [
    "# So in the end, deleting Oliver and adding Jessica changed the central tendency and variance of the\n",
    "# data set. The mean become smaller in this case and standard deviation become larger, due to Jessica\n",
    "# is too small and her age become an outliner of this new data set"
   ]
  },
  {
   "cell_type": "markdown",
   "metadata": {},
   "source": [
    "Question #5: On the 50th anniversary of The Brady Bunch, four different magazines asked their readers whether they were fans of the show. The answers were: TV Guide 20% fans Entertainment Weekly 23% fans Pop Culture Today 17% fans SciPhi Phanatic 5% fans\n",
    "\n",
    "Based on these numbers, what percentage of adult Americans would you estimate were Brady Bunch fans on the 50th anniversary of the show?"
   ]
  },
  {
   "cell_type": "code",
   "execution_count": 47,
   "metadata": {},
   "outputs": [],
   "source": [
    "# To me, I think Pop Culture Today and SciPhi Phanatic not quite representing the majority adult Americans, \n",
    "# so I picked TV Guide and Entertainment Weekly data. The average of TV Guide and Entertainment Weekly \n",
    "# is 21.5%. Therefore, I would say 21.5% adult Americans were fan of Brady Bunch on the 50th anniversary show. "
   ]
  },
  {
   "cell_type": "code",
   "execution_count": null,
   "metadata": {},
   "outputs": [],
   "source": []
  }
 ],
 "metadata": {
  "kernelspec": {
   "display_name": "Python 3",
   "language": "python",
   "name": "python3"
  },
  "language_info": {
   "codemirror_mode": {
    "name": "ipython",
    "version": 3
   },
   "file_extension": ".py",
   "mimetype": "text/x-python",
   "name": "python",
   "nbconvert_exporter": "python",
   "pygments_lexer": "ipython3",
   "version": "3.7.0"
  }
 },
 "nbformat": 4,
 "nbformat_minor": 2
}
